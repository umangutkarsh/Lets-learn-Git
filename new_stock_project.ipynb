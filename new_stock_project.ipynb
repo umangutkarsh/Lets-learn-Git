{
 "cells": [
  {
   "cell_type": "code",
   "execution_count": 1,
   "id": "d5268d5f",
   "metadata": {},
   "outputs": [
    {
     "data": {
      "text/plain": [
       "'2.6.0'"
      ]
     },
     "execution_count": 1,
     "metadata": {},
     "output_type": "execute_result"
    }
   ],
   "source": [
    "# pip install numpy\n",
    "import numpy as np\n",
    "import pandas as pd\n",
    "import matplotlib.pyplot as plt\n",
    "%matplotlib inline\n",
    "from sklearn.preprocessing import MinMaxScaler\n",
    "from tensorflow.keras.models import Sequential, load_model\n",
    "from tensorflow.keras.layers import LSTM, Dense, Dropout\n",
    "import os\n",
    "import tensorflow as tf\n",
    "tf.__version__"
   ]
  },
  {
   "cell_type": "code",
   "execution_count": 2,
   "id": "002a131d",
   "metadata": {},
   "outputs": [
    {
     "data": {
      "text/html": [
       "<div>\n",
       "<style scoped>\n",
       "    .dataframe tbody tr th:only-of-type {\n",
       "        vertical-align: middle;\n",
       "    }\n",
       "\n",
       "    .dataframe tbody tr th {\n",
       "        vertical-align: top;\n",
       "    }\n",
       "\n",
       "    .dataframe thead th {\n",
       "        text-align: right;\n",
       "    }\n",
       "</style>\n",
       "<table border=\"1\" class=\"dataframe\">\n",
       "  <thead>\n",
       "    <tr style=\"text-align: right;\">\n",
       "      <th></th>\n",
       "      <th>date</th>\n",
       "      <th>open</th>\n",
       "      <th>high</th>\n",
       "      <th>low</th>\n",
       "      <th>close</th>\n",
       "      <th>volume</th>\n",
       "      <th>Name</th>\n",
       "    </tr>\n",
       "  </thead>\n",
       "  <tbody>\n",
       "    <tr>\n",
       "      <th>0</th>\n",
       "      <td>2013-02-08</td>\n",
       "      <td>67.7142</td>\n",
       "      <td>68.4014</td>\n",
       "      <td>66.8928</td>\n",
       "      <td>67.8542</td>\n",
       "      <td>158168416</td>\n",
       "      <td>AAPL</td>\n",
       "    </tr>\n",
       "    <tr>\n",
       "      <th>1</th>\n",
       "      <td>2013-02-11</td>\n",
       "      <td>68.0714</td>\n",
       "      <td>69.2771</td>\n",
       "      <td>67.6071</td>\n",
       "      <td>68.5614</td>\n",
       "      <td>129029425</td>\n",
       "      <td>AAPL</td>\n",
       "    </tr>\n",
       "    <tr>\n",
       "      <th>2</th>\n",
       "      <td>2013-02-12</td>\n",
       "      <td>68.5014</td>\n",
       "      <td>68.9114</td>\n",
       "      <td>66.8205</td>\n",
       "      <td>66.8428</td>\n",
       "      <td>151829363</td>\n",
       "      <td>AAPL</td>\n",
       "    </tr>\n",
       "    <tr>\n",
       "      <th>3</th>\n",
       "      <td>2013-02-13</td>\n",
       "      <td>66.7442</td>\n",
       "      <td>67.6628</td>\n",
       "      <td>66.1742</td>\n",
       "      <td>66.7156</td>\n",
       "      <td>118721995</td>\n",
       "      <td>AAPL</td>\n",
       "    </tr>\n",
       "    <tr>\n",
       "      <th>4</th>\n",
       "      <td>2013-02-14</td>\n",
       "      <td>66.3599</td>\n",
       "      <td>67.3771</td>\n",
       "      <td>66.2885</td>\n",
       "      <td>66.6556</td>\n",
       "      <td>88809154</td>\n",
       "      <td>AAPL</td>\n",
       "    </tr>\n",
       "  </tbody>\n",
       "</table>\n",
       "</div>"
      ],
      "text/plain": [
       "         date     open     high      low    close     volume  Name\n",
       "0  2013-02-08  67.7142  68.4014  66.8928  67.8542  158168416  AAPL\n",
       "1  2013-02-11  68.0714  69.2771  67.6071  68.5614  129029425  AAPL\n",
       "2  2013-02-12  68.5014  68.9114  66.8205  66.8428  151829363  AAPL\n",
       "3  2013-02-13  66.7442  67.6628  66.1742  66.7156  118721995  AAPL\n",
       "4  2013-02-14  66.3599  67.3771  66.2885  66.6556   88809154  AAPL"
      ]
     },
     "execution_count": 2,
     "metadata": {},
     "output_type": "execute_result"
    }
   ],
   "source": [
    "df = pd.read_csv('AAPL.csv')\n",
    "df.head()"
   ]
  },
  {
   "cell_type": "code",
   "execution_count": 3,
   "id": "5ae7187e",
   "metadata": {},
   "outputs": [
    {
     "name": "stdout",
     "output_type": "stream",
     "text": [
      "(1259, 1)\n"
     ]
    },
    {
     "data": {
      "text/plain": [
       "array([[67.8542],\n",
       "       [68.5614],\n",
       "       [66.8428],\n",
       "       [66.7156],\n",
       "       [66.6556],\n",
       "       [65.7371],\n",
       "       [65.7128]])"
      ]
     },
     "execution_count": 3,
     "metadata": {},
     "output_type": "execute_result"
    }
   ],
   "source": [
    "df = df['close'].values\n",
    "df = df.reshape(-1,1)\n",
    "print(df.shape)\n",
    "df[:7]"
   ]
  },
  {
   "cell_type": "code",
   "execution_count": 4,
   "id": "744d2301",
   "metadata": {},
   "outputs": [],
   "source": [
    "dataset_train = np.array(df[:int(df.shape[0]*0.8)])\n",
    "dataset_test = np.array(df[int(df.shape[0]*0.8)-50:])"
   ]
  },
  {
   "cell_type": "code",
   "execution_count": 5,
   "id": "b914de03",
   "metadata": {},
   "outputs": [
    {
     "data": {
      "text/plain": [
       "(302, 1)"
      ]
     },
     "execution_count": 5,
     "metadata": {},
     "output_type": "execute_result"
    }
   ],
   "source": [
    "dataset_test.shape"
   ]
  },
  {
   "cell_type": "code",
   "execution_count": 6,
   "id": "4c13b2c1",
   "metadata": {},
   "outputs": [
    {
     "data": {
      "text/plain": [
       "array([[0.15625287],\n",
       "       [0.1654123 ],\n",
       "       [0.14315355],\n",
       "       [0.1415061 ],\n",
       "       [0.140729  ],\n",
       "       [0.12883289],\n",
       "       [0.12851816]])"
      ]
     },
     "execution_count": 6,
     "metadata": {},
     "output_type": "execute_result"
    }
   ],
   "source": [
    "scaler = MinMaxScaler(feature_range=(0,1))\n",
    "dataset_train = scaler.fit_transform(dataset_train)\n",
    "dataset_train[:7]"
   ]
  },
  {
   "cell_type": "code",
   "execution_count": 7,
   "id": "eff0448b",
   "metadata": {},
   "outputs": [
    {
     "data": {
      "text/plain": [
       "array([[0.72529501],\n",
       "       [0.72244564],\n",
       "       [0.72102095],\n",
       "       [0.70884638],\n",
       "       [0.69550616],\n",
       "       [0.70081634],\n",
       "       [0.69058452]])"
      ]
     },
     "execution_count": 7,
     "metadata": {},
     "output_type": "execute_result"
    }
   ],
   "source": [
    "dataset_test = scaler.transform(dataset_test)\n",
    "dataset_test[:7]"
   ]
  },
  {
   "cell_type": "code",
   "execution_count": 8,
   "id": "b9eb8813",
   "metadata": {},
   "outputs": [],
   "source": [
    "def create_my_dataset(df):\n",
    "    x = []\n",
    "    y = []\n",
    "    for i in range(50,df.shape[0]):\n",
    "        x.append(df[i-50:i,0])\n",
    "        y.append(df[i,0])\n",
    "    x = np.array(x)\n",
    "    y = np.array(y)\n",
    "    return x,y"
   ]
  },
  {
   "cell_type": "code",
   "execution_count": 9,
   "id": "047df738",
   "metadata": {},
   "outputs": [
    {
     "data": {
      "text/plain": [
       "array([[0.15625287, 0.1654123 , 0.14315355, 0.1415061 , 0.140729  ,\n",
       "        0.12883289, 0.12851816, 0.10790687, 0.10274433, 0.11153334,\n",
       "        0.09671274, 0.10812834, 0.09998692, 0.0941224 , 0.07389966,\n",
       "        0.0546198 , 0.07514561, 0.06500315, 0.07410688, 0.07621153,\n",
       "        0.08759087, 0.07012425, 0.0699766 , 0.07765564, 0.0983032 ,\n",
       "        0.12061764, 0.11834203, 0.11388277, 0.11508468, 0.1320708 ,\n",
       "        0.13515978, 0.13063835, 0.11388277, 0.0964537 , 0.07101273,\n",
       "        0.07264464, 0.07671147, 0.06881095, 0.06044805, 0.06601727,\n",
       "        0.06744195, 0.08355772, 0.08104121, 0.07265889, 0.05424938,\n",
       "        0.06607296, 0.02270299, 0.0028131 , 0.        , 0.0150615 ]])"
      ]
     },
     "execution_count": 9,
     "metadata": {},
     "output_type": "execute_result"
    }
   ],
   "source": [
    "x_train,y_train = create_my_dataset(dataset_train)\n",
    "x_train[:1]"
   ]
  },
  {
   "cell_type": "code",
   "execution_count": 10,
   "id": "ca5a936d",
   "metadata": {},
   "outputs": [
    {
     "data": {
      "text/plain": [
       "(1, 50)"
      ]
     },
     "execution_count": 10,
     "metadata": {},
     "output_type": "execute_result"
    }
   ],
   "source": [
    "x_train[:1].shape"
   ]
  },
  {
   "cell_type": "code",
   "execution_count": 11,
   "id": "c354bec4",
   "metadata": {},
   "outputs": [
    {
     "data": {
      "text/plain": [
       "array([[0.72529501, 0.72244564, 0.72102095, 0.70884638, 0.69550616,\n",
       "        0.70081634, 0.69058452, 0.70146393, 0.71545173, 0.72956906,\n",
       "        0.75327062, 0.74485203, 0.7693307 , 0.7693307 , 0.77749025,\n",
       "        0.779433  , 0.78811062, 0.79212564, 0.79355033, 0.78357754,\n",
       "        0.78655642, 0.79614066, 0.78966482, 0.78927627, 0.77749025,\n",
       "        0.7817643 , 0.78008059, 0.78772207, 0.80455925, 0.81854706,\n",
       "        0.82010126, 0.82839033, 0.82191449, 0.81919464, 0.83162825,\n",
       "        0.83149873, 0.82877888, 0.83162825, 0.83266438, 0.8312397 ,\n",
       "        0.85597739, 0.85675449, 0.85688401, 0.85273947, 0.849113  ,\n",
       "        0.94495539, 0.94210602, 0.94922944, 0.96490097, 0.98096104]])"
      ]
     },
     "execution_count": 11,
     "metadata": {},
     "output_type": "execute_result"
    }
   ],
   "source": [
    "x_test,y_test = create_my_dataset(dataset_test)\n",
    "x_test[:1]"
   ]
  },
  {
   "cell_type": "code",
   "execution_count": 13,
   "id": "cd2a4800",
   "metadata": {},
   "outputs": [
    {
     "name": "stdout",
     "output_type": "stream",
     "text": [
      "(957, 50, 1)\n",
      "(252, 50, 1)\n"
     ]
    }
   ],
   "source": [
    "#x_train.shape\n",
    "#(957,50,1)\n",
    "x_train = np.reshape(x_train,(x_train.shape[0],x_train.shape[1],1))\n",
    "x_test = np.reshape(x_test,(x_test.shape[0],x_test.shape[1],1))\n",
    "print(x_train.shape)\n",
    "print(x_test.shape)"
   ]
  },
  {
   "cell_type": "code",
   "execution_count": 12,
   "id": "dfae0459",
   "metadata": {},
   "outputs": [],
   "source": [
    "model = Sequential()\n",
    "\n",
    "model.add(LSTM(96,return_sequences=True, input_shape=(x_train.shape[1],1)))\n",
    "model.add(Dropout(0.3))\n",
    "\n",
    "model.add(LSTM(96,return_sequences=True))\n",
    "model.add(Dropout(0.3))\n",
    "\n",
    "model.add(LSTM(96))\n",
    "model.add(Dropout(0.3))\n",
    "\n",
    "model.add(Dense(1))\n",
    "\n",
    "model.compile(loss='mean_squared_error', optimizer='adam')"
   ]
  },
  {
   "cell_type": "code",
   "execution_count": 14,
   "id": "f32b7088",
   "metadata": {
    "scrolled": false
   },
   "outputs": [
    {
     "name": "stdout",
     "output_type": "stream",
     "text": [
      "Model: \"sequential\"\n",
      "_________________________________________________________________\n",
      "Layer (type)                 Output Shape              Param #   \n",
      "=================================================================\n",
      "lstm (LSTM)                  (None, 50, 96)            37632     \n",
      "_________________________________________________________________\n",
      "dropout (Dropout)            (None, 50, 96)            0         \n",
      "_________________________________________________________________\n",
      "lstm_1 (LSTM)                (None, 50, 96)            74112     \n",
      "_________________________________________________________________\n",
      "dropout_1 (Dropout)          (None, 50, 96)            0         \n",
      "_________________________________________________________________\n",
      "lstm_2 (LSTM)                (None, 96)                74112     \n",
      "_________________________________________________________________\n",
      "dropout_2 (Dropout)          (None, 96)                0         \n",
      "_________________________________________________________________\n",
      "dense (Dense)                (None, 1)                 97        \n",
      "=================================================================\n",
      "Total params: 185,953\n",
      "Trainable params: 185,953\n",
      "Non-trainable params: 0\n",
      "_________________________________________________________________\n"
     ]
    }
   ],
   "source": [
    "model.summary()"
   ]
  },
  {
   "cell_type": "code",
   "execution_count": 15,
   "id": "cd1cd41b",
   "metadata": {},
   "outputs": [],
   "source": [
    "model.compile(loss = 'mean_squared_error', optimizer='adam')"
   ]
  },
  {
   "cell_type": "code",
   "execution_count": 16,
   "id": "8f7406c1",
   "metadata": {},
   "outputs": [
    {
     "name": "stdout",
     "output_type": "stream",
     "text": [
      "Epoch 1/60\n",
      "30/30 [==============================] - 6s 82ms/step - loss: 0.0438\n",
      "Epoch 2/60\n",
      "30/30 [==============================] - 2s 82ms/step - loss: 0.0066\n",
      "Epoch 3/60\n",
      "30/30 [==============================] - 2s 76ms/step - loss: 0.0055\n",
      "Epoch 4/60\n",
      "30/30 [==============================] - 2s 75ms/step - loss: 0.0054\n",
      "Epoch 5/60\n",
      "30/30 [==============================] - 2s 79ms/step - loss: 0.0059\n",
      "Epoch 6/60\n",
      "30/30 [==============================] - 3s 87ms/step - loss: 0.0057\n",
      "Epoch 7/60\n",
      "30/30 [==============================] - 2s 82ms/step - loss: 0.0064\n",
      "Epoch 8/60\n",
      "30/30 [==============================] - 2s 79ms/step - loss: 0.0054\n",
      "Epoch 9/60\n",
      "30/30 [==============================] - 2s 76ms/step - loss: 0.0055\n",
      "Epoch 10/60\n",
      "30/30 [==============================] - 3s 85ms/step - loss: 0.0046\n",
      "Epoch 11/60\n",
      "30/30 [==============================] - 2s 79ms/step - loss: 0.0049\n",
      "Epoch 12/60\n",
      "30/30 [==============================] - 3s 85ms/step - loss: 0.0046: 0s - loss: 0\n",
      "Epoch 13/60\n",
      "30/30 [==============================] - 3s 93ms/step - loss: 0.0047\n",
      "Epoch 14/60\n",
      "30/30 [==============================] - 3s 89ms/step - loss: 0.0046: 0s - \n",
      "Epoch 15/60\n",
      "30/30 [==============================] - 3s 86ms/step - loss: 0.0044\n",
      "Epoch 16/60\n",
      "30/30 [==============================] - 3s 86ms/step - loss: 0.0044\n",
      "Epoch 17/60\n",
      "30/30 [==============================] - 3s 85ms/step - loss: 0.0053\n",
      "Epoch 18/60\n",
      "30/30 [==============================] - 3s 95ms/step - loss: 0.0044\n",
      "Epoch 19/60\n",
      "30/30 [==============================] - 3s 99ms/step - loss: 0.0041\n",
      "Epoch 20/60\n",
      "30/30 [==============================] - 3s 97ms/step - loss: 0.0042\n",
      "Epoch 21/60\n",
      "30/30 [==============================] - 3s 90ms/step - loss: 0.0043\n",
      "Epoch 22/60\n",
      "30/30 [==============================] - 3s 85ms/step - loss: 0.0039\n",
      "Epoch 23/60\n",
      "30/30 [==============================] - 3s 99ms/step - loss: 0.0038\n",
      "Epoch 24/60\n",
      "30/30 [==============================] - 3s 96ms/step - loss: 0.0041\n",
      "Epoch 25/60\n",
      "30/30 [==============================] - 3s 89ms/step - loss: 0.0044\n",
      "Epoch 26/60\n",
      "30/30 [==============================] - 3s 88ms/step - loss: 0.0037\n",
      "Epoch 27/60\n",
      "30/30 [==============================] - 3s 86ms/step - loss: 0.0035\n",
      "Epoch 28/60\n",
      "30/30 [==============================] - 3s 86ms/step - loss: 0.0036: 1s \n",
      "Epoch 29/60\n",
      "30/30 [==============================] - 3s 89ms/step - loss: 0.0036\n",
      "Epoch 30/60\n",
      "30/30 [==============================] - 3s 101ms/step - loss: 0.0038\n",
      "Epoch 31/60\n",
      "30/30 [==============================] - 3s 94ms/step - loss: 0.0042\n",
      "Epoch 32/60\n",
      "30/30 [==============================] - 3s 88ms/step - loss: 0.0036\n",
      "Epoch 33/60\n",
      "30/30 [==============================] - 3s 85ms/step - loss: 0.0030\n",
      "Epoch 34/60\n",
      "30/30 [==============================] - 3s 86ms/step - loss: 0.0033\n",
      "Epoch 35/60\n",
      "30/30 [==============================] - 3s 90ms/step - loss: 0.0037\n",
      "Epoch 36/60\n",
      "30/30 [==============================] - 3s 103ms/step - loss: 0.0033\n",
      "Epoch 37/60\n",
      "30/30 [==============================] - 3s 93ms/step - loss: 0.0036\n",
      "Epoch 38/60\n",
      "30/30 [==============================] - 3s 88ms/step - loss: 0.0037\n",
      "Epoch 39/60\n",
      "30/30 [==============================] - 3s 85ms/step - loss: 0.0032\n",
      "Epoch 40/60\n",
      "30/30 [==============================] - 3s 86ms/step - loss: 0.0031\n",
      "Epoch 41/60\n",
      "30/30 [==============================] - 3s 91ms/step - loss: 0.0031\n",
      "Epoch 42/60\n",
      "30/30 [==============================] - 3s 93ms/step - loss: 0.0032\n",
      "Epoch 43/60\n",
      "30/30 [==============================] - 3s 90ms/step - loss: 0.0031\n",
      "Epoch 44/60\n",
      "30/30 [==============================] - 3s 88ms/step - loss: 0.0029\n",
      "Epoch 45/60\n",
      "30/30 [==============================] - 3s 86ms/step - loss: 0.0029\n",
      "Epoch 46/60\n",
      "30/30 [==============================] - 3s 98ms/step - loss: 0.0031\n",
      "Epoch 47/60\n",
      "30/30 [==============================] - 3s 92ms/step - loss: 0.0026\n",
      "Epoch 48/60\n",
      "30/30 [==============================] - 3s 92ms/step - loss: 0.0028\n",
      "Epoch 49/60\n",
      "30/30 [==============================] - 3s 89ms/step - loss: 0.0028\n",
      "Epoch 50/60\n",
      "30/30 [==============================] - 3s 87ms/step - loss: 0.0031\n",
      "Epoch 51/60\n",
      "30/30 [==============================] - 3s 86ms/step - loss: 0.0029\n",
      "Epoch 52/60\n",
      "30/30 [==============================] - 3s 86ms/step - loss: 0.0028\n",
      "Epoch 53/60\n",
      "30/30 [==============================] - 3s 94ms/step - loss: 0.0026\n",
      "Epoch 54/60\n",
      "30/30 [==============================] - 3s 95ms/step - loss: 0.0029\n",
      "Epoch 55/60\n",
      "30/30 [==============================] - 3s 93ms/step - loss: 0.0026\n",
      "Epoch 56/60\n",
      "30/30 [==============================] - 3s 91ms/step - loss: 0.0025\n",
      "Epoch 57/60\n",
      "30/30 [==============================] - 3s 106ms/step - loss: 0.0023\n",
      "Epoch 58/60\n",
      "30/30 [==============================] - 3s 95ms/step - loss: 0.0025\n",
      "Epoch 59/60\n",
      "30/30 [==============================] - 3s 100ms/step - loss: 0.0025\n",
      "Epoch 60/60\n",
      "30/30 [==============================] - 3s 98ms/step - loss: 0.0028\n"
     ]
    },
    {
     "data": {
      "text/plain": [
       "<keras.callbacks.History at 0x1112349c490>"
      ]
     },
     "execution_count": 16,
     "metadata": {},
     "output_type": "execute_result"
    }
   ],
   "source": [
    "model.fit(x_train,y_train, epochs=60, batch_size=32)"
   ]
  },
  {
   "cell_type": "code",
   "execution_count": 17,
   "id": "04a0ac49",
   "metadata": {},
   "outputs": [],
   "source": [
    "losses = pd.DataFrame(model.history.history)"
   ]
  },
  {
   "cell_type": "code",
   "execution_count": 18,
   "id": "9ca0f0c0",
   "metadata": {},
   "outputs": [
    {
     "data": {
      "text/html": [
       "<div>\n",
       "<style scoped>\n",
       "    .dataframe tbody tr th:only-of-type {\n",
       "        vertical-align: middle;\n",
       "    }\n",
       "\n",
       "    .dataframe tbody tr th {\n",
       "        vertical-align: top;\n",
       "    }\n",
       "\n",
       "    .dataframe thead th {\n",
       "        text-align: right;\n",
       "    }\n",
       "</style>\n",
       "<table border=\"1\" class=\"dataframe\">\n",
       "  <thead>\n",
       "    <tr style=\"text-align: right;\">\n",
       "      <th></th>\n",
       "      <th>loss</th>\n",
       "    </tr>\n",
       "  </thead>\n",
       "  <tbody>\n",
       "    <tr>\n",
       "      <th>0</th>\n",
       "      <td>0.043800</td>\n",
       "    </tr>\n",
       "    <tr>\n",
       "      <th>1</th>\n",
       "      <td>0.006593</td>\n",
       "    </tr>\n",
       "    <tr>\n",
       "      <th>2</th>\n",
       "      <td>0.005502</td>\n",
       "    </tr>\n",
       "    <tr>\n",
       "      <th>3</th>\n",
       "      <td>0.005367</td>\n",
       "    </tr>\n",
       "    <tr>\n",
       "      <th>4</th>\n",
       "      <td>0.005883</td>\n",
       "    </tr>\n",
       "  </tbody>\n",
       "</table>\n",
       "</div>"
      ],
      "text/plain": [
       "       loss\n",
       "0  0.043800\n",
       "1  0.006593\n",
       "2  0.005502\n",
       "3  0.005367\n",
       "4  0.005883"
      ]
     },
     "execution_count": 18,
     "metadata": {},
     "output_type": "execute_result"
    }
   ],
   "source": [
    "losses.head()"
   ]
  },
  {
   "cell_type": "code",
   "execution_count": 19,
   "id": "2efb651b",
   "metadata": {},
   "outputs": [
    {
     "data": {
      "text/plain": [
       "<AxesSubplot:>"
      ]
     },
     "execution_count": 19,
     "metadata": {},
     "output_type": "execute_result"
    },
    {
     "data": {
      "image/png": "[encoded data removed]",
      "text/plain": [
       "<Figure size 432x288 with 1 Axes>"
      ]
     },
     "metadata": {
      "needs_background": "light"
     },
     "output_type": "display_data"
    }
   ],
   "source": [
    "losses.plot()"
   ]
  },
  {
   "cell_type": "code",
   "execution_count": 20,
   "id": "a8b96c13",
   "metadata": {},
   "outputs": [],
   "source": [
    "model.save('stock_prection.h5')"
   ]
  },
  {
   "cell_type": "code",
   "execution_count": 23,
   "id": "2cee9ed3",
   "metadata": {},
   "outputs": [],
   "source": [
    "predictions = model.predict(x_test)\n",
    "predictions = scaler.inverse_transform(predictions)"
   ]
  },
  {
   "cell_type": "code",
   "execution_count": 26,
   "id": "ab3dff2f",
   "metadata": {},
   "outputs": [
    {
     "data": {
      "text/plain": [
       "array([[127.89009],\n",
       "       [129.04196],\n",
       "       [129.87221],\n",
       "       [130.31786],\n",
       "       [130.6299 ],\n",
       "       [131.11002],\n",
       "       [131.73021],\n",
       "       [132.3027 ],\n",
       "       [132.78278],\n",
       "       [133.27385],\n",
       "       [133.76906],\n",
       "       [134.09537],\n",
       "       [134.2683 ],\n",
       "       [134.36795],\n",
       "       [134.43256],\n",
       "       [134.91743],\n",
       "       [135.49913],\n",
       "       [136.1347 ],\n",
       "       [136.61223],\n",
       "       [136.9182 ],\n",
       "       [136.98615],\n",
       "       [136.84769],\n",
       "       [136.6918 ],\n",
       "       [136.5891 ],\n",
       "       [136.51642],\n",
       "       [136.70778],\n",
       "       [137.08894],\n",
       "       [137.39877],\n",
       "       [137.81586],\n",
       "       [137.98207],\n",
       "       [138.18694],\n",
       "       [138.32892],\n",
       "       [138.35744],\n",
       "       [138.34595],\n",
       "       [138.79143],\n",
       "       [139.53941],\n",
       "       [140.28534],\n",
       "       [140.8093 ],\n",
       "       [141.0851 ],\n",
       "       [141.33649],\n",
       "       [141.43057],\n",
       "       [141.34586],\n",
       "       [141.11624],\n",
       "       [140.82104],\n",
       "       [140.30367],\n",
       "       [139.7638 ],\n",
       "       [139.21094],\n",
       "       [138.88155],\n",
       "       [138.6724 ],\n",
       "       [138.48259],\n",
       "       [138.6089 ],\n",
       "       [138.90831],\n",
       "       [139.4663 ],\n",
       "       [140.22864],\n",
       "       [140.82654],\n",
       "       [141.1923 ],\n",
       "       [141.31926],\n",
       "       [141.76152],\n",
       "       [142.52092],\n",
       "       [143.25273],\n",
       "       [143.69933],\n",
       "       [144.26698],\n",
       "       [145.52121],\n",
       "       [147.16791],\n",
       "       [148.56302],\n",
       "       [149.58388],\n",
       "       [150.5419 ],\n",
       "       [151.23012],\n",
       "       [151.57133],\n",
       "       [150.7342 ],\n",
       "       [149.72267],\n",
       "       [148.97578],\n",
       "       [148.74297],\n",
       "       [148.85086],\n",
       "       [149.04416],\n",
       "       [149.31783],\n",
       "       [149.54251],\n",
       "       [149.70119],\n",
       "       [149.63828],\n",
       "       [149.5243 ],\n",
       "       [149.8107 ],\n",
       "       [150.05473],\n",
       "       [150.28151],\n",
       "       [150.60823],\n",
       "       [150.87317],\n",
       "       [150.00708],\n",
       "       [147.9917 ],\n",
       "       [145.89192],\n",
       "       [144.00513],\n",
       "       [142.49823],\n",
       "       [141.18822],\n",
       "       [140.86777],\n",
       "       [141.06706],\n",
       "       [141.63765],\n",
       "       [142.259  ],\n",
       "       [142.86557],\n",
       "       [143.26357],\n",
       "       [143.09966],\n",
       "       [142.94188],\n",
       "       [142.51656],\n",
       "       [142.0434 ],\n",
       "       [141.55785],\n",
       "       [141.25111],\n",
       "       [140.90184],\n",
       "       [140.80043],\n",
       "       [141.03297],\n",
       "       [141.50798],\n",
       "       [142.06001],\n",
       "       [142.86809],\n",
       "       [143.90234],\n",
       "       [144.9564 ],\n",
       "       [145.88156],\n",
       "       [146.69168],\n",
       "       [147.15892],\n",
       "       [147.30171],\n",
       "       [147.53586],\n",
       "       [147.9263 ],\n",
       "       [148.46315],\n",
       "       [148.47841],\n",
       "       [147.95131],\n",
       "       [147.08047],\n",
       "       [147.871  ],\n",
       "       [149.43738],\n",
       "       [150.79906],\n",
       "       [151.80235],\n",
       "       [152.80267],\n",
       "       [153.85884],\n",
       "       [154.91646],\n",
       "       [154.72548],\n",
       "       [154.15996],\n",
       "       [153.96834],\n",
       "       [154.4134 ],\n",
       "       [155.04306],\n",
       "       [155.05855],\n",
       "       [154.59662],\n",
       "       [153.91827],\n",
       "       [153.73631],\n",
       "       [153.9766 ],\n",
       "       [154.28801],\n",
       "       [154.651  ],\n",
       "       [155.25172],\n",
       "       [156.1401 ],\n",
       "       [157.09323],\n",
       "       [157.98216],\n",
       "       [158.64133],\n",
       "       [158.65932],\n",
       "       [158.25652],\n",
       "       [157.59932],\n",
       "       [156.48729],\n",
       "       [155.84583],\n",
       "       [155.55638],\n",
       "       [155.31683],\n",
       "       [154.88957],\n",
       "       [154.70753],\n",
       "       [154.52632],\n",
       "       [154.38542],\n",
       "       [153.83414],\n",
       "       [152.67041],\n",
       "       [151.1229 ],\n",
       "       [149.45827],\n",
       "       [148.5114 ],\n",
       "       [148.4291 ],\n",
       "       [148.72891],\n",
       "       [149.28697],\n",
       "       [149.81093],\n",
       "       [150.29907],\n",
       "       [150.49368],\n",
       "       [150.78697],\n",
       "       [151.09108],\n",
       "       [151.42624],\n",
       "       [151.71559],\n",
       "       [152.02068],\n",
       "       [152.1758 ],\n",
       "       [152.36893],\n",
       "       [153.06224],\n",
       "       [154.0437 ],\n",
       "       [154.84187],\n",
       "       [154.65369],\n",
       "       [153.93234],\n",
       "       [153.072  ],\n",
       "       [152.50801],\n",
       "       [152.14763],\n",
       "       [152.14641],\n",
       "       [153.356  ],\n",
       "       [155.7602 ],\n",
       "       [158.77885],\n",
       "       [161.02469],\n",
       "       [162.46031],\n",
       "       [163.94402],\n",
       "       [165.51193],\n",
       "       [166.88062],\n",
       "       [168.07153],\n",
       "       [168.80469],\n",
       "       [168.86322],\n",
       "       [168.39336],\n",
       "       [167.25253],\n",
       "       [165.58629],\n",
       "       [164.39172],\n",
       "       [163.6076 ],\n",
       "       [163.21082],\n",
       "       [163.71175],\n",
       "       [164.98921],\n",
       "       [166.42033],\n",
       "       [167.40689],\n",
       "       [167.69644],\n",
       "       [166.85287],\n",
       "       [166.01604],\n",
       "       [165.27678],\n",
       "       [164.54222],\n",
       "       [163.9363 ],\n",
       "       [163.42377],\n",
       "       [163.13492],\n",
       "       [163.05386],\n",
       "       [163.72498],\n",
       "       [164.52011],\n",
       "       [165.28087],\n",
       "       [165.82368],\n",
       "       [166.4445 ],\n",
       "       [167.4492 ],\n",
       "       [168.0875 ],\n",
       "       [168.29883],\n",
       "       [168.33868],\n",
       "       [168.28511],\n",
       "       [167.35365],\n",
       "       [166.12778],\n",
       "       [165.12541],\n",
       "       [164.16356],\n",
       "       [163.99658],\n",
       "       [164.34734],\n",
       "       [165.05365],\n",
       "       [166.16066],\n",
       "       [167.1162 ],\n",
       "       [167.73753],\n",
       "       [168.01187],\n",
       "       [168.22217],\n",
       "       [168.7091 ],\n",
       "       [169.07567],\n",
       "       [169.83138],\n",
       "       [170.66652],\n",
       "       [171.17566],\n",
       "       [171.07732],\n",
       "       [170.66672],\n",
       "       [169.65425],\n",
       "       [167.95978],\n",
       "       [166.35425],\n",
       "       [164.54187],\n",
       "       [162.83751],\n",
       "       [161.66669],\n",
       "       [161.14874],\n",
       "       [159.81793],\n",
       "       [157.53947],\n",
       "       [156.32472]], dtype=float32)"
      ]
     },
     "execution_count": 26,
     "metadata": {},
     "output_type": "execute_result"
    }
   ],
   "source": [
    "predictions"
   ]
  },
  {
   "cell_type": "code",
   "execution_count": 36,
   "id": "da654910",
   "metadata": {},
   "outputs": [
    {
     "name": "stdout",
     "output_type": "stream",
     "text": [
      "range(1007, 1259)\n"
     ]
    },
    {
     "data": {
      "image/png": "[encoded data removed]",
      "text/plain": [
       "<Figure size 720x432 with 1 Axes>"
      ]
     },
     "metadata": {
      "needs_background": "light"
     },
     "output_type": "display_data"
    }
   ],
   "source": [
    "fig,ax = plt.subplots(figsize=(10,6))\n",
    "\n",
    "plt.plot(df,color='red', label='original Stockprice')\n",
    "ax.plot(range(len(y_train)+50, len(y_train)+50+len(predictions)),predictions, color='blue',label='Predictions')\n",
    "plt.legend()\n",
    "print(range(len(y_train)+50,len(y_train)+50+len(predictions)))"
   ]
  },
  {
   "cell_type": "code",
   "execution_count": 37,
   "id": "7a136735",
   "metadata": {},
   "outputs": [
    {
     "data": {
      "text/plain": [
       "<matplotlib.legend.Legend at 0x1112ee925b0>"
      ]
     },
     "execution_count": 37,
     "metadata": {},
     "output_type": "execute_result"
    },
    {
     "data": {
      "image/png": "[encoded data removed]",
      "text/plain": [
       "<Figure size 576x288 with 1 Axes>"
      ]
     },
     "metadata": {
      "needs_background": "light"
     },
     "output_type": "display_data"
    }
   ],
   "source": [
    "scaled_ytest = scaler.inverse_transform(y_test.reshape(-1,1))\n",
    "\n",
    "fig,ax = plt.subplots(figsize=(8,4))\n",
    "ax.plot(scaled_ytest, color='red',label='True Prices')\n",
    "plt.plot(predictions,color=\"blue\",label = 'Predicted Prices')\n",
    "plt.legend()"
   ]
  },
  {
   "cell_type": "code",
   "execution_count": null,
   "id": "dc9466dc",
   "metadata": {},
   "outputs": [],
   "source": []
  }
 ],
 "metadata": {
  "kernelspec": {
   "display_name": "Python 3",
   "language": "python",
   "name": "python3"
  },
  "language_info": {
   "codemirror_mode": {
    "name": "ipython",
    "version": 3
   },
   "file_extension": ".py",
   "mimetype": "text/x-python",
   "name": "python",
   "nbconvert_exporter": "python",
   "pygments_lexer": "ipython3",
   "version": "3.8.8"
  }
 },
 "nbformat": 4,
 "nbformat_minor": 5
}
